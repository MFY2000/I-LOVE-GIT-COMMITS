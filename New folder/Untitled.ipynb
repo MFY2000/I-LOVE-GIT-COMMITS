{
 "cells": [
  {
   "cell_type": "code",
   "execution_count": 2,
   "metadata": {},
   "outputs": [],
   "source": [
    "# only for windows\n",
    "import getpass\n",
    "USER_NAME = getpass.getuser()\n",
    "\n",
    "\n",
    "def add_to_startup(file_path='master.py'):\n",
    "    if file_path == \"\":\n",
    "        file_path = os.path.dirname(os.path.realpath(__file__))\n",
    "    bat_path = r'C:\\Users\\%s\\AppData\\Roaming\\Microsoft\\Windows\\Start Menu\\Programs\\Startup' % USER_NAME\n",
    "    with open(bat_path + '\\\\' + \"open.bat\", \"w+\") as bat_file:\n",
    "        bat_file.write(r'start \"\" %s' % file_path)"
   ]
  },
  {
   "cell_type": "code",
   "execution_count": null,
   "metadata": {},
   "outputs": [],
   "source": []
  }
 ],
 "metadata": {
  "kernelspec": {
   "display_name": "Python 3",
   "language": "python",
   "name": "python3"
  },
  "language_info": {
   "codemirror_mode": {
    "name": "ipython",
    "version": 3
   },
   "file_extension": ".py",
   "mimetype": "text/x-python",
   "name": "python",
   "nbconvert_exporter": "python",
   "pygments_lexer": "ipython3",
   "version": "3.7.6"
  }
 },
 "nbformat": 4,
 "nbformat_minor": 4
}
